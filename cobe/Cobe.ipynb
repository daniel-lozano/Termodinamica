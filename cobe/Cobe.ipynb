{
 "metadata": {
  "name": "Cobe"
 },
 "nbformat": 3,
 "nbformat_minor": 0,
 "worksheets": [
  {
   "cells": [
    {
     "cell_type": "code",
     "collapsed": false,
     "input": [
      "%pylab inline "
     ],
     "language": "python",
     "metadata": {},
     "outputs": [
      {
       "output_type": "stream",
       "stream": "stdout",
       "text": [
        "\n",
        "Welcome to pylab, a matplotlib-based Python environment [backend: module://IPython.zmq.pylab.backend_inline].\n",
        "For more information, type 'help(pylab)'.\n"
       ]
      }
     ],
     "prompt_number": 1
    },
    {
     "cell_type": "code",
     "collapsed": false,
     "input": [
      "from scipy.optimize import curve_fit\n",
      "from scipy import stats"
     ],
     "language": "python",
     "metadata": {},
     "outputs": [],
     "prompt_number": 2
    },
    {
     "cell_type": "code",
     "collapsed": false,
     "input": [
      "def funcion(a,x):\n",
      "    return a*x"
     ],
     "language": "python",
     "metadata": {},
     "outputs": [],
     "prompt_number": 3
    },
    {
     "cell_type": "code",
     "collapsed": false,
     "input": [
      "datos=loadtxt(open(\"datos.txt\",\"r\"))"
     ],
     "language": "python",
     "metadata": {},
     "outputs": [],
     "prompt_number": 4
    },
    {
     "cell_type": "heading",
     "level": 2,
     "metadata": {},
     "source": [
      "constantes "
     ]
    },
    {
     "cell_type": "code",
     "collapsed": false,
     "input": [
      "h=6.626*10**-34 #joules*seg\n",
      "c=2.9972*10**8  #m/seg\n",
      "Kb=1.38*10**-23 #joules/K"
     ],
     "language": "python",
     "metadata": {},
     "outputs": [],
     "prompt_number": 5
    },
    {
     "cell_type": "heading",
     "level": 2,
     "metadata": {},
     "source": [
      "datos"
     ]
    },
    {
     "cell_type": "code",
     "collapsed": false,
     "input": [
      "freq=datos[:,0]#cm^-1\n",
      "Inten=datos[:,1]#MJ/sr\n",
      "dato2=datos[:,2]#kJ/sr\n",
      "incertidumbre=datos[:,3]# kJ/sr\n",
      "print freq"
     ],
     "language": "python",
     "metadata": {},
     "outputs": [
      {
       "output_type": "stream",
       "stream": "stdout",
       "text": [
        "[  2.27   2.72   3.18   3.63   4.08   4.54   4.99   5.45   5.9    6.35\n",
        "   6.81   7.26   7.71   8.17   8.62   9.08   9.53   9.98  10.44  10.89\n",
        "  11.34  11.8   12.25  12.71  13.16  13.61  14.07  14.52  14.97  15.43\n",
        "  15.88  16.34  16.79  17.24  17.7   18.15  18.61  19.06  19.51  19.97\n",
        "  20.42  20.87  21.33]\n"
       ]
      }
     ],
     "prompt_number": 6
    },
    {
     "cell_type": "code",
     "collapsed": false,
     "input": [
      "for i in range(len(incertidumbre)):\n",
      "    a=incertidumbre[i]/1000\n",
      "    incertidumbre[i]=a"
     ],
     "language": "python",
     "metadata": {},
     "outputs": [],
     "prompt_number": 7
    },
    {
     "cell_type": "code",
     "collapsed": false,
     "input": [
      "plot(freq,Inten,label=\" B(T,f)\")\n",
      "title(\"$ Datos\\ COBE\\ $\",size=20)\n",
      "xlabel(\"$ \\\\nu\\  [cm^{-1} ]$\",size=15)\n",
      "ylabel(\"$ B_{\\\\nu}(T)\\   [\\\\frac{MJy}{sr}]  $ \", rotation=\"horizontal\",size=15)\n",
      "legend()\n",
      "\n",
      "err_x=0\n",
      "err_y=incertidumbre\n",
      "errorbar(freq, Inten, xerr=err_x, yerr=err_y, fmt='r.')\n",
      "\n",
      "savefig(\"datos_medidos.png\")"
     ],
     "language": "python",
     "metadata": {},
     "outputs": [
      {
       "output_type": "display_data",
       "png": "[encoded data removed]"
      }
     ],
     "prompt_number": 8
    },
    {
     "cell_type": "heading",
     "level": 1,
     "metadata": {},
     "source": [
      "cambiando unidades de frecuncia a Hz"
     ]
    },
    {
     "cell_type": "code",
     "collapsed": false,
     "input": [
      "for i in range(len(freq)):\n",
      "    a=freq[i]*100*c\n",
      "    freq[i]=a\n",
      "print freq    "
     ],
     "language": "python",
     "metadata": {},
     "outputs": [
      {
       "output_type": "stream",
       "stream": "stdout",
       "text": [
        "[  6.80364400e+10   8.15238400e+10   9.53109600e+10   1.08798360e+11\n",
        "   1.22285760e+11   1.36072880e+11   1.49560280e+11   1.63347400e+11\n",
        "   1.76834800e+11   1.90322200e+11   2.04109320e+11   2.17596720e+11\n",
        "   2.31084120e+11   2.44871240e+11   2.58358640e+11   2.72145760e+11\n",
        "   2.85633160e+11   2.99120560e+11   3.12907680e+11   3.26395080e+11\n",
        "   3.39882480e+11   3.53669600e+11   3.67157000e+11   3.80944120e+11\n",
        "   3.94431520e+11   4.07918920e+11   4.21706040e+11   4.35193440e+11\n",
        "   4.48680840e+11   4.62467960e+11   4.75955360e+11   4.89742480e+11\n",
        "   5.03229880e+11   5.16717280e+11   5.30504400e+11   5.43991800e+11\n",
        "   5.57778920e+11   5.71266320e+11   5.84753720e+11   5.98540840e+11\n",
        "   6.12028240e+11   6.25515640e+11   6.39302760e+11]\n"
       ]
      }
     ],
     "prompt_number": 9
    },
    {
     "cell_type": "heading",
     "level": 2,
     "metadata": {},
     "source": [
      "cambiando unidades janskys a unidades bonitas  "
     ]
    },
    {
     "cell_type": "code",
     "collapsed": false,
     "input": [
      "for i in range(len(Inten)):\n",
      "    a=Inten[i]*4*pi*10**-20\n",
      "    c=incertidumbre[i]*4*pi*10**-20\n",
      "    incertidumbre[i]=c\n",
      "    Inten[i]=a\n",
      "print Inten"
     ],
     "language": "python",
     "metadata": {},
     "outputs": [
      {
       "output_type": "stream",
       "stream": "stdout",
       "text": [
        "[  2.52235961e-17   3.13541000e-17   3.68224818e-17   4.11887930e-17\n",
        "   4.44951307e-17   4.67568261e-17   4.79398242e-17   4.81892667e-17\n",
        "   4.76141039e-17   4.63489217e-17   4.44928688e-17   4.22579398e-17\n",
        "   3.97192816e-17   3.69355792e-17   3.41091511e-17   3.11946327e-17\n",
        "   2.83924578e-17   2.56764881e-17   2.30293821e-17   2.05874850e-17\n",
        "   1.83154852e-17   1.61898836e-17   1.42713758e-17   1.24973812e-17\n",
        "   1.09372663e-17   9.53485937e-18   8.26439930e-18   7.16383656e-18\n",
        "   6.18554461e-18   5.31142787e-18   4.56812705e-18   3.90336604e-18\n",
        "   3.34014131e-18   2.84552896e-18   2.41965466e-18   2.05975381e-18\n",
        "   1.73554145e-18   1.47227598e-18   1.24670963e-18   1.05105124e-18\n",
        "   8.90578685e-19   7.28975159e-19   5.68376943e-19]\n"
       ]
      }
     ],
     "prompt_number": 10
    },
    {
     "cell_type": "code",
     "collapsed": false,
     "input": [
      "x=zeros(len(Inten),dtype=\"float\")\n",
      "\n",
      "for i in range(len(Inten)):\n",
      "    a=2*(freq[i]**3)*h/(c*Inten[i]*c) +1\n",
      "    b=log(a)\n",
      "    x[i]=b\n",
      "print x    "
     ],
     "language": "python",
     "metadata": {},
     "outputs": [
      {
       "output_type": "stream",
       "stream": "stdout",
       "text": [
        "[ 126.91798657  127.24297759  127.550962    127.83595873  128.10933819\n",
        "  128.38024776  128.63878815  128.8981375   129.14815502  129.3955934\n",
        "  129.64627442  129.88977421  130.1321448   130.37865842  130.61911653\n",
        "  130.86440351  131.1036376   131.34260055  131.58658985  131.82527843\n",
        "  132.063689    132.306339    132.54474896  132.78807512  133.02579688\n",
        "  133.26388695  133.50660455  133.74396235  133.98235653  134.22550729\n",
        "  134.46250507  134.70543599  134.94276429  135.18237481  135.42349608\n",
        "  135.6598522   135.90620476  136.14239319  136.37870067  136.61932959\n",
        "  136.85185524  137.11748077  137.43174103]\n"
       ]
      }
     ],
     "prompt_number": 11
    },
    {
     "cell_type": "code",
     "collapsed": false,
     "input": [
      "curve_fit(funcion,x,freq)\n",
      "aqui=stats.linregress(x,freq)\n"
     ],
     "language": "python",
     "metadata": {},
     "outputs": [],
     "prompt_number": 12
    },
    {
     "cell_type": "code",
     "collapsed": false,
     "input": [
      "res=zeros(len(x))\n",
      "for i in range(len(x)):\n",
      "    res[i]=aqui[0]*x[i]+aqui[1]"
     ],
     "language": "python",
     "metadata": {},
     "outputs": [],
     "prompt_number": 13
    },
    {
     "cell_type": "code",
     "collapsed": false,
     "input": [
      "error_fit=aqui[-1]*h/Kb"
     ],
     "language": "python",
     "metadata": {},
     "outputs": [],
     "prompt_number": 14
    },
    {
     "cell_type": "code",
     "collapsed": false,
     "input": [
      "plot(x,freq,\"bo\",label=\"datos\")\n",
      "plot(x,res,\"r\",label=\"$\\\\nu\\ =\\ \\\\frac{Kb T}{h}\\dotln( \\\\frac{2 h \\\\nu{3}}{B c^{2}} +1  ) + b $\",linewidth=2)\n",
      "xlabel(\"$ ln( \\\\frac{2 h \\\\nu{3}}{B c^{2}} +1  )$\",size=15)\n",
      "ylabel(\"$\\\\nu\\ \\ [Hz] $\",size=15,rotation=\"horizontal\")\n",
      "title(\"$ Linealizacion,\\ T=2.67K $\",size=20)\n",
      "legend()\n",
      "savefig(\"temperatura.png\")"
     ],
     "language": "python",
     "metadata": {},
     "outputs": [
      {
       "output_type": "display_data",
       "png": "[encoded data removed]"
      }
     ],
     "prompt_number": 18
    },
    {
     "cell_type": "code",
     "collapsed": false,
     "input": [
      "T=aqui[0]*h/Kb\n",
      "\n",
      "print T, \"ooooh my fuckiinnggg gooood\"\n",
      "print error_fit\n"
     ],
     "language": "python",
     "metadata": {},
     "outputs": [
      {
       "output_type": "stream",
       "stream": "stdout",
       "text": [
        "2.67509782829 ooooh my fuckiinnggg gooood\n",
        "0.00781943822599\n",
        "(55714382780.503807, -7015943101334.7139, 0.99982488975978423, 1.7831783997244353e-72, 162855791.60672185)\n"
       ]
      }
     ],
     "prompt_number": 153
    },
    {
     "cell_type": "code",
     "collapsed": false,
     "input": [],
     "language": "python",
     "metadata": {},
     "outputs": []
    }
   ],
   "metadata": {}
  }
 ]
}